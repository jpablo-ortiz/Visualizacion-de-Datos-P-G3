{
 "cells": [
  {
   "cell_type": "code",
   "execution_count": 1,
   "metadata": {},
   "outputs": [
    {
     "data": {
      "text/html": [
       "<div>\n",
       "<style scoped>\n",
       "    .dataframe tbody tr th:only-of-type {\n",
       "        vertical-align: middle;\n",
       "    }\n",
       "\n",
       "    .dataframe tbody tr th {\n",
       "        vertical-align: top;\n",
       "    }\n",
       "\n",
       "    .dataframe thead th {\n",
       "        text-align: right;\n",
       "    }\n",
       "</style>\n",
       "<table border=\"1\" class=\"dataframe\">\n",
       "  <thead>\n",
       "    <tr style=\"text-align: right;\">\n",
       "      <th></th>\n",
       "      <th>name</th>\n",
       "      <th>console</th>\n",
       "    </tr>\n",
       "  </thead>\n",
       "  <tbody>\n",
       "    <tr>\n",
       "      <th>9278</th>\n",
       "      <td>the messenger</td>\n",
       "      <td>pc</td>\n",
       "    </tr>\n",
       "  </tbody>\n",
       "</table>\n",
       "</div>"
      ],
      "text/plain": [
       "               name console\n",
       "9278  the messenger      pc"
      ]
     },
     "execution_count": 1,
     "metadata": {},
     "output_type": "execute_result"
    }
   ],
   "source": [
    "import pandas as pd\n",
    "#Crear dataframe\n",
    "game_2000=pd.read_csv(\"Games with metacritic score since 2000.csv\")\n",
    "\n",
    "# Minuscula columnas por verificar\n",
    "game_2000.name= game_2000['name'].str.lower()\n",
    "game_2000.console= game_2000['console'].str.lower()\n",
    "\n",
    "\n",
    "# Dataframe con las columnas que deseo revizar.\n",
    "data_duplicated_2000= game_2000[['name','console']]\n",
    "data_duplicated_2000[data_duplicated_2000.duplicated()] #the messenger duplicado\n"
   ]
  },
  {
   "cell_type": "markdown",
   "metadata": {},
   "source": [
    "*Se puede ver que el juego the messenger en pc tiene la data duplicada pero el valor de user score y la fecha no concuerdan*"
   ]
  },
  {
   "cell_type": "code",
   "execution_count": 7,
   "metadata": {},
   "outputs": [
    {
     "data": {
      "text/html": [
       "<div>\n",
       "<style scoped>\n",
       "    .dataframe tbody tr th:only-of-type {\n",
       "        vertical-align: middle;\n",
       "    }\n",
       "\n",
       "    .dataframe tbody tr th {\n",
       "        vertical-align: top;\n",
       "    }\n",
       "\n",
       "    .dataframe thead th {\n",
       "        text-align: right;\n",
       "    }\n",
       "</style>\n",
       "<table border=\"1\" class=\"dataframe\">\n",
       "  <thead>\n",
       "    <tr style=\"text-align: right;\">\n",
       "      <th></th>\n",
       "      <th>metascore</th>\n",
       "      <th>name</th>\n",
       "      <th>console</th>\n",
       "      <th>userscore</th>\n",
       "      <th>date</th>\n",
       "    </tr>\n",
       "  </thead>\n",
       "  <tbody>\n",
       "    <tr>\n",
       "      <th>2222</th>\n",
       "      <td>83</td>\n",
       "      <td>the messenger</td>\n",
       "      <td>pc</td>\n",
       "      <td>6.1</td>\n",
       "      <td>Aug 30, 2018</td>\n",
       "    </tr>\n",
       "    <tr>\n",
       "      <th>9278</th>\n",
       "      <td>61</td>\n",
       "      <td>the messenger</td>\n",
       "      <td>pc</td>\n",
       "      <td>tbd</td>\n",
       "      <td>Feb 14, 2001</td>\n",
       "    </tr>\n",
       "  </tbody>\n",
       "</table>\n",
       "</div>"
      ],
      "text/plain": [
       "      metascore           name console userscore          date\n",
       "2222         83  the messenger      pc       6.1  Aug 30, 2018\n",
       "9278         61  the messenger      pc       tbd  Feb 14, 2001"
      ]
     },
     "execution_count": 7,
     "metadata": {},
     "output_type": "execute_result"
    }
   ],
   "source": [
    "game_2000[(game_2000.name==\"the messenger\") & (game_2000.console=='pc')]\n"
   ]
  },
  {
   "cell_type": "code",
   "execution_count": 19,
   "metadata": {},
   "outputs": [
    {
     "data": {
      "text/html": [
       "<div>\n",
       "<style scoped>\n",
       "    .dataframe tbody tr th:only-of-type {\n",
       "        vertical-align: middle;\n",
       "    }\n",
       "\n",
       "    .dataframe tbody tr th {\n",
       "        vertical-align: top;\n",
       "    }\n",
       "\n",
       "    .dataframe thead th {\n",
       "        text-align: right;\n",
       "    }\n",
       "</style>\n",
       "<table border=\"1\" class=\"dataframe\">\n",
       "  <thead>\n",
       "    <tr style=\"text-align: right;\">\n",
       "      <th></th>\n",
       "      <th>Name</th>\n",
       "      <th>Platform</th>\n",
       "    </tr>\n",
       "  </thead>\n",
       "  <tbody>\n",
       "  </tbody>\n",
       "</table>\n",
       "</div>"
      ],
      "text/plain": [
       "Empty DataFrame\n",
       "Columns: [Name, Platform]\n",
       "Index: []"
      ]
     },
     "execution_count": 19,
     "metadata": {},
     "output_type": "execute_result"
    }
   ],
   "source": [
    "#seguramente se puede crear una función para que mire todos los docummentos pero yo no sé cómo xd\n",
    "#Crear dataframe\n",
    "data_sales= pd.read_csv(\"Video_Game_Sales.csv\")\n",
    "\n",
    "# Minuscula columnas por verificar Name, Platform\n",
    "data_sales['Name']= data_sales['Name'].str.lower()\n",
    "\n",
    "data_sales.Platform= data_sales['Platform'].str.lower()\n",
    "\n",
    "\n",
    "# Dataframe con las columnas que deseo revizar.\n",
    "data_duplicated_sales= data_sales[['Name','Platform']]\n",
    "data_duplicated_sales[data_sales.duplicated()] #sin duplicados \n"
   ]
  },
  {
   "cell_type": "code",
   "execution_count": 23,
   "metadata": {},
   "outputs": [
    {
     "data": {
      "text/html": [
       "<div>\n",
       "<style scoped>\n",
       "    .dataframe tbody tr th:only-of-type {\n",
       "        vertical-align: middle;\n",
       "    }\n",
       "\n",
       "    .dataframe tbody tr th {\n",
       "        vertical-align: top;\n",
       "    }\n",
       "\n",
       "    .dataframe thead th {\n",
       "        text-align: right;\n",
       "    }\n",
       "</style>\n",
       "<table border=\"1\" class=\"dataframe\">\n",
       "  <thead>\n",
       "    <tr style=\"text-align: right;\">\n",
       "      <th></th>\n",
       "      <th>Name</th>\n",
       "      <th>Platform</th>\n",
       "    </tr>\n",
       "  </thead>\n",
       "  <tbody>\n",
       "  </tbody>\n",
       "</table>\n",
       "</div>"
      ],
      "text/plain": [
       "Empty DataFrame\n",
       "Columns: [Name, Platform]\n",
       "Index: []"
      ]
     },
     "execution_count": 23,
     "metadata": {},
     "output_type": "execute_result"
    }
   ],
   "source": [
    "\n",
    "#Crear dataframe\n",
    "data_sales_2016= pd.read_csv(\"Video_Games_Sales_as_at_22_Dec_2016.csv\")\n",
    "\n",
    "# Minuscula columnas por verificar Name, Platform\n",
    "data_sales_2016['Name']= data_sales_2016['Name'].str.lower()\n",
    "\n",
    "data_sales_2016.Platform= data_sales_2016['Platform'].str.lower()\n",
    "\n",
    "\n",
    "# Dataframe con las columnas que deseo revizar.\n",
    "data_duplicated_sales_2016= data_sales_2016[['Name','Platform']]\n",
    "data_duplicated_sales_2016[data_sales_2016.duplicated()] #sin duplicados "
   ]
  },
  {
   "cell_type": "code",
   "execution_count": 26,
   "metadata": {},
   "outputs": [
    {
     "data": {
      "text/plain": [
       "0"
      ]
     },
     "execution_count": 26,
     "metadata": {},
     "output_type": "execute_result"
    }
   ],
   "source": [
    "\n",
    "#Crear dataframe\n",
    "data_developer= pd.read_csv(\"videogames-price-developer-publisher.csv\")\n",
    "\n",
    "# Minuscula columnas por verificar Name, Platform\n",
    "data_developer['game']= data_developer['game'].str.lower()\n",
    "\n",
    "data_developer.duplicated().sum() #no duplicados\n",
    "\n"
   ]
  },
  {
   "cell_type": "code",
   "execution_count": 30,
   "metadata": {},
   "outputs": [
    {
     "data": {
      "text/plain": [
       "0"
      ]
     },
     "execution_count": 30,
     "metadata": {},
     "output_type": "execute_result"
    }
   ],
   "source": [
    "\n",
    "#Crear dataframe\n",
    "data_xbox= pd.read_csv(\"XboxOne_GameSales.csv\",encoding = 'unicode_escape', engine ='python')\n",
    "\n",
    "\n",
    "# Minuscula columnas por verificar Name, Platform\n",
    "data_xbox['Game']= data_xbox['Game'].str.lower()\n",
    "\n",
    "data_xbox.duplicated().sum() # No duplicados"
   ]
  },
  {
   "cell_type": "markdown",
   "metadata": {},
   "source": [
    "EXPLORACIÓN"
   ]
  },
  {
   "cell_type": "code",
   "execution_count": null,
   "metadata": {},
   "outputs": [],
   "source": [
    "\n",
    "import matplotlib.pyplot as plt\n",
    "import seaborn as sns"
   ]
  }
 ],
 "metadata": {
  "interpreter": {
   "hash": "f1b86c9e1abb17b8fbf4e3fe1b2afe267756771920605b54056801fb76573d9f"
  },
  "kernelspec": {
   "display_name": "Python 3.9.7 ('base': conda)",
   "language": "python",
   "name": "python3"
  },
  "language_info": {
   "codemirror_mode": {
    "name": "ipython",
    "version": 3
   },
   "file_extension": ".py",
   "mimetype": "text/x-python",
   "name": "python",
   "nbconvert_exporter": "python",
   "pygments_lexer": "ipython3",
   "version": "3.9.7"
  },
  "orig_nbformat": 4
 },
 "nbformat": 4,
 "nbformat_minor": 2
}
